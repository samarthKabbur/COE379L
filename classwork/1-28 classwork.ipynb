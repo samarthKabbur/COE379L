{
 "cells": [
  {
   "cell_type": "code",
   "execution_count": 69,
   "id": "dc1ad591-794c-49d9-96fb-346f98ba5d56",
   "metadata": {},
   "outputs": [],
   "source": [
    "import pandas as pd\n",
    "import numpy as np"
   ]
  },
  {
   "cell_type": "code",
   "execution_count": 70,
   "id": "23e36524-9953-490f-9814-41d9a8af90de",
   "metadata": {},
   "outputs": [
    {
     "data": {
      "text/plain": [
       "<bound method NDFrame.head of      eid          name location        department                  title  \\\n",
       "0  E0124      John Doe   Austin               ITS     Software Developer   \n",
       "1  E0125       Luna Lu  Houston  Student Services        Student Advisor   \n",
       "2  E1119    Bella Tran   Austin        Accounting             Accountant   \n",
       "3  E2048     Raj Kumar   Dallas           Finance        Finance Manager   \n",
       "4  E2218    Sally Sims   Austin  Student Services     Software Developer   \n",
       "5  E4321  Alonzo Smith   Austin               ITS  Systems Administrator   \n",
       "\n",
       "  campus mail code Business Card  ages  \n",
       "0            A4011         vCard    49  \n",
       "1            G9109         vCard    43  \n",
       "2            D6336         vCard    59  \n",
       "3            C4315         vCard    56  \n",
       "4            G9109         vCard    28  \n",
       "5            A4011         vCard    34  >"
      ]
     },
     "execution_count": 70,
     "metadata": {},
     "output_type": "execute_result"
    }
   ],
   "source": [
    "employees = pd.read_csv(\"datasets/employees.csv\")\n",
    "employees.head"
   ]
  },
  {
   "cell_type": "code",
   "execution_count": 71,
   "id": "2e66b02c-0ac4-4073-a179-3a845edbdbdd",
   "metadata": {},
   "outputs": [
    {
     "data": {
      "text/html": [
       "<div>\n",
       "<style scoped>\n",
       "    .dataframe tbody tr th:only-of-type {\n",
       "        vertical-align: middle;\n",
       "    }\n",
       "\n",
       "    .dataframe tbody tr th {\n",
       "        vertical-align: top;\n",
       "    }\n",
       "\n",
       "    .dataframe thead th {\n",
       "        text-align: right;\n",
       "    }\n",
       "</style>\n",
       "<table border=\"1\" class=\"dataframe\">\n",
       "  <thead>\n",
       "    <tr style=\"text-align: right;\">\n",
       "      <th></th>\n",
       "      <th>eid</th>\n",
       "      <th>name</th>\n",
       "      <th>location</th>\n",
       "      <th>department</th>\n",
       "      <th>title</th>\n",
       "      <th>campus mail code</th>\n",
       "      <th>Business Card</th>\n",
       "      <th>ages</th>\n",
       "    </tr>\n",
       "  </thead>\n",
       "  <tbody>\n",
       "    <tr>\n",
       "      <th>0</th>\n",
       "      <td>NaN</td>\n",
       "      <td>John Doe</td>\n",
       "      <td>Austin</td>\n",
       "      <td>ITS</td>\n",
       "      <td>Software Developer</td>\n",
       "      <td>A4011</td>\n",
       "      <td>vCard</td>\n",
       "      <td>43</td>\n",
       "    </tr>\n",
       "    <tr>\n",
       "      <th>1</th>\n",
       "      <td>E0125</td>\n",
       "      <td>Luna Lu</td>\n",
       "      <td>Houston</td>\n",
       "      <td>Student Services</td>\n",
       "      <td>Student Advisor</td>\n",
       "      <td>G9109</td>\n",
       "      <td>vCard</td>\n",
       "      <td>43</td>\n",
       "    </tr>\n",
       "    <tr>\n",
       "      <th>2</th>\n",
       "      <td>E1119</td>\n",
       "      <td>Bella Tran</td>\n",
       "      <td>Austin</td>\n",
       "      <td>Accounting</td>\n",
       "      <td>Accountant</td>\n",
       "      <td>D6336</td>\n",
       "      <td>vCard</td>\n",
       "      <td>59</td>\n",
       "    </tr>\n",
       "    <tr>\n",
       "      <th>3</th>\n",
       "      <td>E2048</td>\n",
       "      <td>Raj Kumar</td>\n",
       "      <td>Dallas</td>\n",
       "      <td>Finance</td>\n",
       "      <td>Finance Manager</td>\n",
       "      <td>C4315</td>\n",
       "      <td>vCard</td>\n",
       "      <td>56</td>\n",
       "    </tr>\n",
       "    <tr>\n",
       "      <th>4</th>\n",
       "      <td>E2218</td>\n",
       "      <td>Sally Sims</td>\n",
       "      <td>Austin</td>\n",
       "      <td>Student Services</td>\n",
       "      <td>Software Developer</td>\n",
       "      <td>G9109</td>\n",
       "      <td>vCard</td>\n",
       "      <td>28</td>\n",
       "    </tr>\n",
       "    <tr>\n",
       "      <th>5</th>\n",
       "      <td>E4321</td>\n",
       "      <td>Alonzo Smith</td>\n",
       "      <td>Austin</td>\n",
       "      <td>ITS</td>\n",
       "      <td>Systems Administrator</td>\n",
       "      <td>A4011</td>\n",
       "      <td>vCard</td>\n",
       "      <td>34</td>\n",
       "    </tr>\n",
       "  </tbody>\n",
       "</table>\n",
       "</div>"
      ],
      "text/plain": [
       "     eid          name location        department                  title  \\\n",
       "0    NaN      John Doe   Austin               ITS     Software Developer   \n",
       "1  E0125       Luna Lu  Houston  Student Services        Student Advisor   \n",
       "2  E1119    Bella Tran   Austin        Accounting             Accountant   \n",
       "3  E2048     Raj Kumar   Dallas           Finance        Finance Manager   \n",
       "4  E2218    Sally Sims   Austin  Student Services     Software Developer   \n",
       "5  E4321  Alonzo Smith   Austin               ITS  Systems Administrator   \n",
       "\n",
       "  campus mail code Business Card  ages  \n",
       "0            A4011         vCard    43  \n",
       "1            G9109         vCard    43  \n",
       "2            D6336         vCard    59  \n",
       "3            C4315         vCard    56  \n",
       "4            G9109         vCard    28  \n",
       "5            A4011         vCard    34  "
      ]
     },
     "execution_count": 71,
     "metadata": {},
     "output_type": "execute_result"
    }
   ],
   "source": [
    "employees_bad = pd.read_csv(\"datasets/employees-bad.csv\")\n",
    "employees_bad"
   ]
  },
  {
   "cell_type": "code",
   "execution_count": 72,
   "id": "7ce64140-2abd-4e45-92d9-3496c0af77ce",
   "metadata": {},
   "outputs": [
    {
     "data": {
      "text/plain": [
       "0    NaN\n",
       "Name: eid, dtype: object"
      ]
     },
     "execution_count": 72,
     "metadata": {},
     "output_type": "execute_result"
    }
   ],
   "source": [
    "r1_nan = employees_bad.iloc[[0]].get(\"eid\")\n",
    "r1_nan"
   ]
  },
  {
   "cell_type": "code",
   "execution_count": 73,
   "id": "07651595-cbb4-4f54-89ff-a9c6c6588f69",
   "metadata": {},
   "outputs": [
    {
     "data": {
      "text/plain": [
       "0    False\n",
       "Name: eid, dtype: bool"
      ]
     },
     "execution_count": 73,
     "metadata": {},
     "output_type": "execute_result"
    }
   ],
   "source": [
    "r1_nan == np.nan"
   ]
  },
  {
   "cell_type": "code",
   "execution_count": 74,
   "id": "0c447773-7044-4c6e-a25e-2e1a7980b72d",
   "metadata": {},
   "outputs": [
    {
     "data": {
      "text/plain": [
       "True"
      ]
     },
     "execution_count": 74,
     "metadata": {},
     "output_type": "execute_result"
    }
   ],
   "source": [
    "r1_nan is not np.nan"
   ]
  },
  {
   "cell_type": "code",
   "execution_count": 75,
   "id": "2903d7e3-31bc-48e5-b21e-60cd1fa5209b",
   "metadata": {},
   "outputs": [
    {
     "data": {
      "text/plain": [
       "True"
      ]
     },
     "execution_count": 75,
     "metadata": {},
     "output_type": "execute_result"
    }
   ],
   "source": [
    "r1_nan[0] is np.nan #[0] accesses the zeroth element in the series"
   ]
  },
  {
   "cell_type": "code",
   "execution_count": 76,
   "id": "a652b3e1-cdb1-44fa-932c-b4799e49c6de",
   "metadata": {},
   "outputs": [
    {
     "data": {
      "text/html": [
       "<div>\n",
       "<style scoped>\n",
       "    .dataframe tbody tr th:only-of-type {\n",
       "        vertical-align: middle;\n",
       "    }\n",
       "\n",
       "    .dataframe tbody tr th {\n",
       "        vertical-align: top;\n",
       "    }\n",
       "\n",
       "    .dataframe thead th {\n",
       "        text-align: right;\n",
       "    }\n",
       "</style>\n",
       "<table border=\"1\" class=\"dataframe\">\n",
       "  <thead>\n",
       "    <tr style=\"text-align: right;\">\n",
       "      <th></th>\n",
       "      <th>id</th>\n",
       "      <th>brand</th>\n",
       "      <th>model</th>\n",
       "      <th>model_year</th>\n",
       "      <th>mileage</th>\n",
       "      <th>fuel_type</th>\n",
       "      <th>engine</th>\n",
       "      <th>transmission</th>\n",
       "      <th>ext_col</th>\n",
       "      <th>int_col</th>\n",
       "      <th>accident</th>\n",
       "      <th>clean_title</th>\n",
       "      <th>price</th>\n",
       "    </tr>\n",
       "  </thead>\n",
       "  <tbody>\n",
       "    <tr>\n",
       "      <th>0</th>\n",
       "      <td>0</td>\n",
       "      <td>Ford</td>\n",
       "      <td>F-150 Lariat</td>\n",
       "      <td>2018</td>\n",
       "      <td>74349</td>\n",
       "      <td>Gasoline</td>\n",
       "      <td>375.0HP 3.5L V6 Cylinder Engine Gasoline Fuel</td>\n",
       "      <td>10-Speed A/T</td>\n",
       "      <td>Blue</td>\n",
       "      <td>Gray</td>\n",
       "      <td>None reported</td>\n",
       "      <td>Yes</td>\n",
       "      <td>11000</td>\n",
       "    </tr>\n",
       "    <tr>\n",
       "      <th>1</th>\n",
       "      <td>1</td>\n",
       "      <td>BMW</td>\n",
       "      <td>335 i</td>\n",
       "      <td>2007</td>\n",
       "      <td>80000</td>\n",
       "      <td>Gasoline</td>\n",
       "      <td>300.0HP 3.0L Straight 6 Cylinder Engine Gasoli...</td>\n",
       "      <td>6-Speed M/T</td>\n",
       "      <td>Black</td>\n",
       "      <td>Black</td>\n",
       "      <td>None reported</td>\n",
       "      <td>Yes</td>\n",
       "      <td>8250</td>\n",
       "    </tr>\n",
       "    <tr>\n",
       "      <th>2</th>\n",
       "      <td>2</td>\n",
       "      <td>Jaguar</td>\n",
       "      <td>XF Luxury</td>\n",
       "      <td>2009</td>\n",
       "      <td>91491</td>\n",
       "      <td>Gasoline</td>\n",
       "      <td>300.0HP 4.2L 8 Cylinder Engine Gasoline Fuel</td>\n",
       "      <td>6-Speed A/T</td>\n",
       "      <td>Purple</td>\n",
       "      <td>Beige</td>\n",
       "      <td>None reported</td>\n",
       "      <td>Yes</td>\n",
       "      <td>15000</td>\n",
       "    </tr>\n",
       "    <tr>\n",
       "      <th>3</th>\n",
       "      <td>3</td>\n",
       "      <td>BMW</td>\n",
       "      <td>X7 xDrive40i</td>\n",
       "      <td>2022</td>\n",
       "      <td>2437</td>\n",
       "      <td>Hybrid</td>\n",
       "      <td>335.0HP 3.0L Straight 6 Cylinder Engine Gasoli...</td>\n",
       "      <td>Transmission w/Dual Shift Mode</td>\n",
       "      <td>Gray</td>\n",
       "      <td>Brown</td>\n",
       "      <td>None reported</td>\n",
       "      <td>Yes</td>\n",
       "      <td>63500</td>\n",
       "    </tr>\n",
       "    <tr>\n",
       "      <th>4</th>\n",
       "      <td>4</td>\n",
       "      <td>Pontiac</td>\n",
       "      <td>Firebird Base</td>\n",
       "      <td>2001</td>\n",
       "      <td>111000</td>\n",
       "      <td>Gasoline</td>\n",
       "      <td>200.0HP 3.8L V6 Cylinder Engine Gasoline Fuel</td>\n",
       "      <td>A/T</td>\n",
       "      <td>White</td>\n",
       "      <td>Black</td>\n",
       "      <td>None reported</td>\n",
       "      <td>Yes</td>\n",
       "      <td>7850</td>\n",
       "    </tr>\n",
       "  </tbody>\n",
       "</table>\n",
       "</div>"
      ],
      "text/plain": [
       "   id    brand          model  model_year  mileage fuel_type  \\\n",
       "0   0     Ford   F-150 Lariat        2018    74349  Gasoline   \n",
       "1   1      BMW          335 i        2007    80000  Gasoline   \n",
       "2   2   Jaguar      XF Luxury        2009    91491  Gasoline   \n",
       "3   3      BMW   X7 xDrive40i        2022     2437    Hybrid   \n",
       "4   4  Pontiac  Firebird Base        2001   111000  Gasoline   \n",
       "\n",
       "                                              engine  \\\n",
       "0      375.0HP 3.5L V6 Cylinder Engine Gasoline Fuel   \n",
       "1  300.0HP 3.0L Straight 6 Cylinder Engine Gasoli...   \n",
       "2       300.0HP 4.2L 8 Cylinder Engine Gasoline Fuel   \n",
       "3  335.0HP 3.0L Straight 6 Cylinder Engine Gasoli...   \n",
       "4      200.0HP 3.8L V6 Cylinder Engine Gasoline Fuel   \n",
       "\n",
       "                     transmission ext_col int_col       accident clean_title  \\\n",
       "0                    10-Speed A/T    Blue    Gray  None reported         Yes   \n",
       "1                     6-Speed M/T   Black   Black  None reported         Yes   \n",
       "2                     6-Speed A/T  Purple   Beige  None reported         Yes   \n",
       "3  Transmission w/Dual Shift Mode    Gray   Brown  None reported         Yes   \n",
       "4                             A/T   White   Black  None reported         Yes   \n",
       "\n",
       "   price  \n",
       "0  11000  \n",
       "1   8250  \n",
       "2  15000  \n",
       "3  63500  \n",
       "4   7850  "
      ]
     },
     "execution_count": 76,
     "metadata": {},
     "output_type": "execute_result"
    }
   ],
   "source": [
    "cars = pd.read_csv(\"datasets/used_cars_data.csv\")\n",
    "cars.head()"
   ]
  },
  {
   "cell_type": "code",
   "execution_count": 77,
   "id": "91e5adfc-0fb8-4b68-8faf-8a15620c6f60",
   "metadata": {},
   "outputs": [
    {
     "data": {
      "text/plain": [
       "(101, 13)"
      ]
     },
     "execution_count": 77,
     "metadata": {},
     "output_type": "execute_result"
    }
   ],
   "source": [
    "cars.shape"
   ]
  },
  {
   "cell_type": "code",
   "execution_count": 78,
   "id": "b179f91a-353b-49d1-ba3c-85e3f7c2a1e3",
   "metadata": {},
   "outputs": [
    {
     "name": "stdout",
     "output_type": "stream",
     "text": [
      "<class 'pandas.core.frame.DataFrame'>\n",
      "RangeIndex: 101 entries, 0 to 100\n",
      "Data columns (total 13 columns):\n",
      " #   Column        Non-Null Count  Dtype \n",
      "---  ------        --------------  ----- \n",
      " 0   id            101 non-null    int64 \n",
      " 1   brand         101 non-null    object\n",
      " 2   model         101 non-null    object\n",
      " 3   model_year    101 non-null    int64 \n",
      " 4   mileage       101 non-null    int64 \n",
      " 5   fuel_type     95 non-null     object\n",
      " 6   engine        101 non-null    object\n",
      " 7   transmission  101 non-null    object\n",
      " 8   ext_col       101 non-null    object\n",
      " 9   int_col       98 non-null     object\n",
      " 10  accident      101 non-null    object\n",
      " 11  clean_title   101 non-null    object\n",
      " 12  price         101 non-null    int64 \n",
      "dtypes: int64(4), object(9)\n",
      "memory usage: 10.4+ KB\n"
     ]
    }
   ],
   "source": [
    "cars.info()"
   ]
  },
  {
   "cell_type": "code",
   "execution_count": 79,
   "id": "29a885e6-36a0-42b6-a9b4-b96303fc8d49",
   "metadata": {},
   "outputs": [
    {
     "data": {
      "text/plain": [
       "0        0\n",
       "1        1\n",
       "2        2\n",
       "3        3\n",
       "4        4\n",
       "      ... \n",
       "96      96\n",
       "97      97\n",
       "98      98\n",
       "99      99\n",
       "100    100\n",
       "Name: id, Length: 101, dtype: int64"
      ]
     },
     "execution_count": 79,
     "metadata": {},
     "output_type": "execute_result"
    }
   ],
   "source": [
    "cars['id']"
   ]
  },
  {
   "cell_type": "code",
   "execution_count": 80,
   "id": "650146e6-653f-4943-abcf-e198df43560c",
   "metadata": {},
   "outputs": [
    {
     "data": {
      "text/plain": [
       "101"
      ]
     },
     "execution_count": 80,
     "metadata": {},
     "output_type": "execute_result"
    }
   ],
   "source": [
    "len(cars['id'].unique())"
   ]
  },
  {
   "cell_type": "code",
   "execution_count": 81,
   "id": "94cbed47-0ff6-4077-9ca6-a25a57e69246",
   "metadata": {},
   "outputs": [
    {
     "data": {
      "text/plain": [
       "True"
      ]
     },
     "execution_count": 81,
     "metadata": {},
     "output_type": "execute_result"
    }
   ],
   "source": [
    "n = np.arange(start=0, stop=101, step=1)\n",
    "cars['id'].sum() == n.sum()"
   ]
  },
  {
   "cell_type": "code",
   "execution_count": 82,
   "id": "38a8d2a0-68f5-45f0-a7d1-acd7df854bb3",
   "metadata": {},
   "outputs": [
    {
     "name": "stdout",
     "output_type": "stream",
     "text": [
      "['id', 'brand', 'model', 'model_year', 'mileage', 'fuel_type', 'engine', 'transmission', 'ext_col', 'int_col', 'accident', 'clean_title', 'price']\n"
     ]
    }
   ],
   "source": [
    "#axis 0 for rows, axis 1 for columns\n",
    "#inplace = true so it changes the existing df instead of\n",
    "# making a new one\n",
    "print(cars.columns.tolist())\n"
   ]
  },
  {
   "cell_type": "code",
   "execution_count": 83,
   "id": "dc085d75-9f1d-4f75-8336-ae951e7b12ce",
   "metadata": {},
   "outputs": [],
   "source": [
    "cars = cars.drop(columns=['id'])"
   ]
  },
  {
   "cell_type": "code",
   "execution_count": 84,
   "id": "4e998eb9-2750-4b28-b8c8-c7bfb480e571",
   "metadata": {},
   "outputs": [
    {
     "data": {
      "text/plain": [
       "(101, 12)"
      ]
     },
     "execution_count": 84,
     "metadata": {},
     "output_type": "execute_result"
    }
   ],
   "source": [
    "cars.shape"
   ]
  },
  {
   "cell_type": "code",
   "execution_count": 85,
   "id": "cb406ada-b678-43a5-bcb6-0504ea2eec93",
   "metadata": {},
   "outputs": [],
   "source": [
    "cars['engine'] = cars['engine'].str.extract(r'(\\d+(\\.\\d+)?)')[0].astype(float) #grabs the horsepower and throws away everything else"
   ]
  },
  {
   "cell_type": "code",
   "execution_count": 86,
   "id": "378fe0b5-e1fc-4b38-b48b-873418d3d5fc",
   "metadata": {},
   "outputs": [
    {
     "name": "stdout",
     "output_type": "stream",
     "text": [
      "<class 'pandas.core.frame.DataFrame'>\n",
      "RangeIndex: 101 entries, 0 to 100\n",
      "Data columns (total 12 columns):\n",
      " #   Column        Non-Null Count  Dtype  \n",
      "---  ------        --------------  -----  \n",
      " 0   brand         101 non-null    object \n",
      " 1   model         101 non-null    object \n",
      " 2   model_year    101 non-null    int64  \n",
      " 3   mileage       101 non-null    int64  \n",
      " 4   fuel_type     95 non-null     object \n",
      " 5   engine        101 non-null    float64\n",
      " 6   transmission  101 non-null    object \n",
      " 7   ext_col       101 non-null    object \n",
      " 8   int_col       98 non-null     object \n",
      " 9   accident      101 non-null    object \n",
      " 10  clean_title   101 non-null    object \n",
      " 11  price         101 non-null    int64  \n",
      "dtypes: float64(1), int64(3), object(8)\n",
      "memory usage: 9.6+ KB\n"
     ]
    }
   ],
   "source": [
    "cars.info()"
   ]
  },
  {
   "cell_type": "code",
   "execution_count": 87,
   "id": "d6da06d8-72d1-4660-9819-5832295e076c",
   "metadata": {},
   "outputs": [
    {
     "data": {
      "text/plain": [
       "0      375.0\n",
       "1      300.0\n",
       "2      300.0\n",
       "3      335.0\n",
       "4      200.0\n",
       "       ...  \n",
       "96     255.0\n",
       "97     381.0\n",
       "98     228.0\n",
       "99     150.0\n",
       "100    250.0\n",
       "Name: engine, Length: 101, dtype: float64"
      ]
     },
     "execution_count": 87,
     "metadata": {},
     "output_type": "execute_result"
    }
   ],
   "source": [
    "cars['engine']"
   ]
  },
  {
   "cell_type": "code",
   "execution_count": null,
   "id": "5724dee0-45d8-42f5-aff3-febbbcc13e73",
   "metadata": {},
   "outputs": [],
   "source": []
  }
 ],
 "metadata": {
  "kernelspec": {
   "display_name": "classwork-venv",
   "language": "python",
   "name": "classwork-venv"
  },
  "language_info": {
   "codemirror_mode": {
    "name": "ipython",
    "version": 3
   },
   "file_extension": ".py",
   "mimetype": "text/x-python",
   "name": "python",
   "nbconvert_exporter": "python",
   "pygments_lexer": "ipython3",
   "version": "3.11.1"
  }
 },
 "nbformat": 4,
 "nbformat_minor": 5
}
