{
 "cells": [
  {
   "cell_type": "markdown",
   "id": "3f67dff2-a151-46af-876e-d6100d6a455f",
   "metadata": {},
   "source": [
    "https://docs.python.org/3/tutorial/venv.html"
   ]
  },
  {
   "cell_type": "markdown",
   "id": "b14894da-f5a5-48eb-85d3-949e1413616d",
   "metadata": {},
   "source": [
    "https://www.geeksforgeeks.org/using-jupyter-notebook-in-virtual-environment/"
   ]
  },
  {
   "cell_type": "markdown",
   "id": "7e4882c0-3221-4c4e-a973-56975cc00ea3",
   "metadata": {},
   "source": [
    "1. Open terminal, navigate to a directory, to create a Venv and name it accordingly --> the first link"
   ]
  },
  {
   "cell_type": "code",
   "execution_count": null,
   "id": "b34a022b-01db-44f6-b87f-01423539fef3",
   "metadata": {},
   "outputs": [],
   "source": [
    "python -m venv env-name"
   ]
  },
  {
   "cell_type": "code",
   "execution_count": null,
   "id": "21d62160-06b3-45fc-8a8a-3c00f3407507",
   "metadata": {},
   "outputs": [],
   "source": [
    "source env-name/bin/activate"
   ]
  },
  {
   "cell_type": "markdown",
   "id": "7776efb8-f98c-46e1-9e9c-e7a5b1dfe622",
   "metadata": {},
   "source": [
    "2. Install relevant packages\n",
    "3. Create a custom kernel and name it accordingly --> the second link"
   ]
  },
  {
   "cell_type": "code",
   "execution_count": null,
   "id": "4bb4b068-2738-467c-a701-c3af4221b50d",
   "metadata": {},
   "outputs": [],
   "source": [
    "ipython kernel install --user --name=env-name"
   ]
  },
  {
   "cell_type": "markdown",
   "id": "1191ceca-746e-4858-9ff0-16e77f4a592a",
   "metadata": {},
   "source": [
    "4. Create a notebook anywhere and select the kernel created above within the notebook\n",
    "5. Once done, deactivate the venv by typing deactivate into the terminal\n",
    "6. Delete the kernel if necessary\n",
    "7. Done!"
   ]
  }
 ],
 "metadata": {
  "kernelspec": {
   "display_name": "Python 3 (ipykernel)",
   "language": "python",
   "name": "python3"
  },
  "language_info": {
   "codemirror_mode": {
    "name": "ipython",
    "version": 3
   },
   "file_extension": ".py",
   "mimetype": "text/x-python",
   "name": "python",
   "nbconvert_exporter": "python",
   "pygments_lexer": "ipython3",
   "version": "3.11.1"
  }
 },
 "nbformat": 4,
 "nbformat_minor": 5
}
