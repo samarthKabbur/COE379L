{
 "cells": [
  {
   "cell_type": "code",
   "execution_count": 1,
   "id": "28ff9097-b3bd-4e5d-9b39-5dd4c6fa73d7",
   "metadata": {},
   "outputs": [],
   "source": [
    "import numpy as np"
   ]
  },
  {
   "cell_type": "code",
   "execution_count": 2,
   "id": "661bcdc6-4689-4f92-a7e1-af44a23f7b38",
   "metadata": {},
   "outputs": [],
   "source": [
    "m = np.array([1,2,3,4,5])"
   ]
  },
  {
   "cell_type": "code",
   "execution_count": 3,
   "id": "a977075e-b201-4392-95db-6639d5a53cac",
   "metadata": {},
   "outputs": [
    {
     "data": {
      "text/plain": [
       "5"
      ]
     },
     "execution_count": 3,
     "metadata": {},
     "output_type": "execute_result"
    }
   ],
   "source": [
    "m.size"
   ]
  },
  {
   "cell_type": "code",
   "execution_count": 4,
   "id": "61a5811b-6768-48ff-98ab-348ae36be2dc",
   "metadata": {},
   "outputs": [
    {
     "data": {
      "text/plain": [
       "(5,)"
      ]
     },
     "execution_count": 4,
     "metadata": {},
     "output_type": "execute_result"
    }
   ],
   "source": [
    "m.shape"
   ]
  },
  {
   "cell_type": "code",
   "execution_count": 5,
   "id": "8bd8a350-d456-415e-a171-2296639a2672",
   "metadata": {},
   "outputs": [],
   "source": [
    "m2 = np.array([[1,2,3,4,5], [6,7,8,9,10]])"
   ]
  },
  {
   "cell_type": "code",
   "execution_count": 7,
   "id": "583e779e-14d8-4542-aeec-dc2643a65076",
   "metadata": {},
   "outputs": [
    {
     "data": {
      "text/plain": [
       "10"
      ]
     },
     "execution_count": 7,
     "metadata": {},
     "output_type": "execute_result"
    }
   ],
   "source": [
    "m2.size"
   ]
  },
  {
   "cell_type": "code",
   "execution_count": 8,
   "id": "c04864c2-e2f8-465d-be7d-7dfad15766b4",
   "metadata": {},
   "outputs": [
    {
     "data": {
      "text/plain": [
       "(2, 5)"
      ]
     },
     "execution_count": 8,
     "metadata": {},
     "output_type": "execute_result"
    }
   ],
   "source": [
    "m2.shape"
   ]
  },
  {
   "cell_type": "code",
   "execution_count": 9,
   "id": "ce678229-b23c-46ac-b632-6d7f40ea8117",
   "metadata": {},
   "outputs": [],
   "source": [
    "m3 = np.array([ [[1, 2], [3, 4], [5, 6]], [[-1, -2], [-3, -4], [-5, -6]]] )"
   ]
  },
  {
   "cell_type": "code",
   "execution_count": 10,
   "id": "a442a9aa-14b9-4816-9f52-8b1151450b59",
   "metadata": {},
   "outputs": [
    {
     "data": {
      "text/plain": [
       "12"
      ]
     },
     "execution_count": 10,
     "metadata": {},
     "output_type": "execute_result"
    }
   ],
   "source": [
    "m3.size"
   ]
  },
  {
   "cell_type": "code",
   "execution_count": 11,
   "id": "7ab46e82-db13-4a41-96e3-6da34453da27",
   "metadata": {},
   "outputs": [
    {
     "data": {
      "text/plain": [
       "(2, 3, 2)"
      ]
     },
     "execution_count": 11,
     "metadata": {},
     "output_type": "execute_result"
    }
   ],
   "source": [
    "m3.shape"
   ]
  },
  {
   "cell_type": "code",
   "execution_count": 12,
   "id": "d2aa8de7-5324-4814-b63d-f08421f3d17d",
   "metadata": {},
   "outputs": [
    {
     "data": {
      "text/plain": [
       "3"
      ]
     },
     "execution_count": 12,
     "metadata": {},
     "output_type": "execute_result"
    }
   ],
   "source": [
    "m3.ndim"
   ]
  },
  {
   "cell_type": "code",
   "execution_count": 13,
   "id": "b5d2cc23-5db3-47d6-bdd7-305ca0afddb6",
   "metadata": {},
   "outputs": [],
   "source": [
    "m = np.random.randint(100, size=(3,4))"
   ]
  },
  {
   "cell_type": "code",
   "execution_count": 14,
   "id": "1cb321b2-bea6-42ff-9228-26eada49fc23",
   "metadata": {},
   "outputs": [
    {
     "data": {
      "text/plain": [
       "array([[25, 68, 98,  9],\n",
       "       [63,  2, 90, 67],\n",
       "       [98, 32, 35, 30]])"
      ]
     },
     "execution_count": 14,
     "metadata": {},
     "output_type": "execute_result"
    }
   ],
   "source": [
    "m"
   ]
  },
  {
   "cell_type": "code",
   "execution_count": 15,
   "id": "a4330da5-27ae-47d1-95f0-e890f108e760",
   "metadata": {},
   "outputs": [
    {
     "data": {
      "text/plain": [
       "2"
      ]
     },
     "execution_count": 15,
     "metadata": {},
     "output_type": "execute_result"
    }
   ],
   "source": [
    "m.ndim"
   ]
  },
  {
   "cell_type": "code",
   "execution_count": null,
   "id": "f6b9095d-d445-452c-9a0e-662f5db1e33c",
   "metadata": {},
   "outputs": [],
   "source": []
  }
 ],
 "metadata": {
  "kernelspec": {
   "display_name": "classwork-venv",
   "language": "python",
   "name": "classwork-venv"
  },
  "language_info": {
   "codemirror_mode": {
    "name": "ipython",
    "version": 3
   },
   "file_extension": ".py",
   "mimetype": "text/x-python",
   "name": "python",
   "nbconvert_exporter": "python",
   "pygments_lexer": "ipython3",
   "version": "3.11.1"
  }
 },
 "nbformat": 4,
 "nbformat_minor": 5
}
