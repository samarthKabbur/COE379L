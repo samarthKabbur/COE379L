{
 "cells": [
  {
   "cell_type": "code",
   "execution_count": 1,
   "id": "4df8d89d-100d-4eaf-9af5-436a0b2a320a",
   "metadata": {},
   "outputs": [
    {
     "name": "stderr",
     "output_type": "stream",
     "text": [
      "2025-03-11 19:20:16.177359: I external/local_tsl/tsl/cuda/cudart_stub.cc:31] Could not find cuda drivers on your machine, GPU will not be used.\n",
      "2025-03-11 19:20:17.945453: E external/local_xla/xla/stream_executor/cuda/cuda_dnn.cc:9261] Unable to register cuDNN factory: Attempting to register factory for plugin cuDNN when one has already been registered\n",
      "2025-03-11 19:20:17.945774: E external/local_xla/xla/stream_executor/cuda/cuda_fft.cc:607] Unable to register cuFFT factory: Attempting to register factory for plugin cuFFT when one has already been registered\n",
      "2025-03-11 19:20:18.329062: E external/local_xla/xla/stream_executor/cuda/cuda_blas.cc:1515] Unable to register cuBLAS factory: Attempting to register factory for plugin cuBLAS when one has already been registered\n",
      "2025-03-11 19:20:19.019991: I external/local_tsl/tsl/cuda/cudart_stub.cc:31] Could not find cuda drivers on your machine, GPU will not be used.\n",
      "2025-03-11 19:20:19.029627: I tensorflow/core/platform/cpu_feature_guard.cc:182] This TensorFlow binary is optimized to use available CPU instructions in performance-critical operations.\n",
      "To enable the following instructions: AVX2 FMA, in other operations, rebuild TensorFlow with the appropriate compiler flags.\n",
      "2025-03-11 19:20:25.350061: W tensorflow/compiler/tf2tensorrt/utils/py_utils.cc:38] TF-TRT Warning: Could not find TensorRT\n"
     ]
    }
   ],
   "source": [
    "import tensorflow as tf"
   ]
  },
  {
   "cell_type": "code",
   "execution_count": 4,
   "id": "aec938f9-5386-4cd6-8efd-70fdfe7586d2",
   "metadata": {},
   "outputs": [
    {
     "data": {
      "text/plain": [
       "(150, 4)"
      ]
     },
     "execution_count": 4,
     "metadata": {},
     "output_type": "execute_result"
    }
   ],
   "source": [
    "from sklearn import datasets\n",
    "iris = datasets.load_iris()\n",
    "\n",
    "# the independent variables\n",
    "iris.data.shape\n",
    "#(150, 4)\n",
    "\n"
   ]
  },
  {
   "cell_type": "code",
   "execution_count": 5,
   "id": "c4950524-9f43-4e61-9bfb-8081fa4fd01b",
   "metadata": {},
   "outputs": [
    {
     "data": {
      "text/plain": [
       "(150,)"
      ]
     },
     "execution_count": 5,
     "metadata": {},
     "output_type": "execute_result"
    }
   ],
   "source": [
    "# the dependent variables\n",
    "iris.target.shape\n",
    "#(150, 0)"
   ]
  },
  {
   "cell_type": "code",
   "execution_count": 6,
   "id": "f9977ede-6ba1-4315-8de3-4865c218acb3",
   "metadata": {},
   "outputs": [],
   "source": [
    "from sklearn.model_selection import train_test_split\n",
    "from tensorflow.keras.utils import to_categorical\n",
    "\n",
    "X = iris.data\n",
    "y = iris.target\n",
    "\n",
    "X_train, X_test, y_train, y_test = train_test_split(X, y, test_size=0.2, stratify=y, random_state=1)\n",
    "\n",
    "y_train_encoded = to_categorical(y_train)\n",
    "y_test_encoded = to_categorical(y_test)"
   ]
  },
  {
   "cell_type": "code",
   "execution_count": 7,
   "id": "04bacc49-b03f-4640-8994-9b440f3a7edc",
   "metadata": {},
   "outputs": [],
   "source": [
    "from keras.models import Sequential\n",
    "from keras.layers import Dense"
   ]
  },
  {
   "cell_type": "code",
   "execution_count": 8,
   "id": "bcd3a964-af2d-4014-840a-4df83972e5a1",
   "metadata": {},
   "outputs": [],
   "source": [
    "model = Sequential()"
   ]
  },
  {
   "cell_type": "code",
   "execution_count": 9,
   "id": "1aad1067-515c-468b-89f7-49412c3a14b4",
   "metadata": {},
   "outputs": [],
   "source": [
    "# input layers -- no of input layers must match the no of features in the independent variable\n",
    "model.add(Dense(4, input_dim=4, activation='relu'))\n",
    "\n",
    "# Second layer -- keras can infer the input dimension from the previous layer \n",
    "model.add(Dense(128, activation='relu'))\n",
    "\n",
    "# Output layer -- again, keras can infer the input dimension. 3 perceptrons for each output category\n",
    "model.add(Dense(3, activation='softmax'))\n",
    "\n",
    "                "
   ]
  },
  {
   "cell_type": "code",
   "execution_count": 10,
   "id": "c71e898d-3565-418d-8b62-4d7f998a2720",
   "metadata": {},
   "outputs": [],
   "source": [
    "model.compile(optimizer='adam', loss='categorical_crossentropy', metrics=['accuracy'])"
   ]
  },
  {
   "cell_type": "code",
   "execution_count": 11,
   "id": "aed1a035-8b0a-41de-8522-d7af562add9f",
   "metadata": {},
   "outputs": [
    {
     "name": "stdout",
     "output_type": "stream",
     "text": [
      "Model: \"sequential\"\n",
      "_________________________________________________________________\n",
      " Layer (type)                Output Shape              Param #   \n",
      "=================================================================\n",
      " dense (Dense)               (None, 4)                 20        \n",
      "                                                                 \n",
      " dense_1 (Dense)             (None, 128)               640       \n",
      "                                                                 \n",
      " dense_2 (Dense)             (None, 3)                 387       \n",
      "                                                                 \n",
      "=================================================================\n",
      "Total params: 1047 (4.09 KB)\n",
      "Trainable params: 1047 (4.09 KB)\n",
      "Non-trainable params: 0 (0.00 Byte)\n",
      "_________________________________________________________________\n"
     ]
    }
   ],
   "source": [
    "model.summary()"
   ]
  },
  {
   "cell_type": "code",
   "execution_count": 12,
   "id": "6fa50c69-9f03-4378-9fcb-abad986e4518",
   "metadata": {},
   "outputs": [],
   "source": [
    "# a bigger batch size will result in faster training"
   ]
  },
  {
   "cell_type": "code",
   "execution_count": 13,
   "id": "8a4771d8-f7c6-4c93-a920-da465e82edad",
   "metadata": {},
   "outputs": [
    {
     "name": "stdout",
     "output_type": "stream",
     "text": [
      "Epoch 1/20\n",
      "4/4 - 1s - loss: 1.1433 - accuracy: 0.4259 - val_loss: 1.0990 - val_accuracy: 0.6667 - 1s/epoch - 320ms/step\n",
      "Epoch 2/20\n",
      "4/4 - 0s - loss: 1.0995 - accuracy: 0.6481 - val_loss: 1.0750 - val_accuracy: 0.6667 - 26ms/epoch - 6ms/step\n",
      "Epoch 3/20\n",
      "4/4 - 0s - loss: 1.0605 - accuracy: 0.6574 - val_loss: 1.0533 - val_accuracy: 0.6667 - 23ms/epoch - 6ms/step\n",
      "Epoch 4/20\n",
      "4/4 - 0s - loss: 1.0318 - accuracy: 0.6481 - val_loss: 1.0337 - val_accuracy: 0.5833 - 23ms/epoch - 6ms/step\n",
      "Epoch 5/20\n",
      "4/4 - 0s - loss: 1.0004 - accuracy: 0.4352 - val_loss: 1.0133 - val_accuracy: 0.6667 - 23ms/epoch - 6ms/step\n",
      "Epoch 6/20\n",
      "4/4 - 0s - loss: 0.9738 - accuracy: 0.6389 - val_loss: 0.9912 - val_accuracy: 0.6667 - 24ms/epoch - 6ms/step\n",
      "Epoch 7/20\n",
      "4/4 - 0s - loss: 0.9474 - accuracy: 0.6389 - val_loss: 0.9667 - val_accuracy: 0.6667 - 25ms/epoch - 6ms/step\n",
      "Epoch 8/20\n",
      "4/4 - 0s - loss: 0.9198 - accuracy: 0.6389 - val_loss: 0.9396 - val_accuracy: 0.6667 - 24ms/epoch - 6ms/step\n",
      "Epoch 9/20\n",
      "4/4 - 0s - loss: 0.8921 - accuracy: 0.6574 - val_loss: 0.9067 - val_accuracy: 0.6667 - 24ms/epoch - 6ms/step\n",
      "Epoch 10/20\n",
      "4/4 - 0s - loss: 0.8624 - accuracy: 0.6574 - val_loss: 0.8710 - val_accuracy: 0.6667 - 24ms/epoch - 6ms/step\n",
      "Epoch 11/20\n",
      "4/4 - 0s - loss: 0.8324 - accuracy: 0.6574 - val_loss: 0.8320 - val_accuracy: 0.6667 - 24ms/epoch - 6ms/step\n",
      "Epoch 12/20\n",
      "4/4 - 0s - loss: 0.8012 - accuracy: 0.6574 - val_loss: 0.7914 - val_accuracy: 0.7500 - 24ms/epoch - 6ms/step\n",
      "Epoch 13/20\n",
      "4/4 - 0s - loss: 0.7695 - accuracy: 0.6574 - val_loss: 0.7513 - val_accuracy: 0.7500 - 24ms/epoch - 6ms/step\n",
      "Epoch 14/20\n",
      "4/4 - 0s - loss: 0.7385 - accuracy: 0.6574 - val_loss: 0.7120 - val_accuracy: 0.7500 - 24ms/epoch - 6ms/step\n",
      "Epoch 15/20\n",
      "4/4 - 0s - loss: 0.7086 - accuracy: 0.6574 - val_loss: 0.6734 - val_accuracy: 0.7500 - 25ms/epoch - 6ms/step\n",
      "Epoch 16/20\n",
      "4/4 - 0s - loss: 0.6804 - accuracy: 0.6574 - val_loss: 0.6360 - val_accuracy: 0.7500 - 25ms/epoch - 6ms/step\n",
      "Epoch 17/20\n",
      "4/4 - 0s - loss: 0.6539 - accuracy: 0.6574 - val_loss: 0.6020 - val_accuracy: 0.7500 - 24ms/epoch - 6ms/step\n",
      "Epoch 18/20\n",
      "4/4 - 0s - loss: 0.6295 - accuracy: 0.6574 - val_loss: 0.5707 - val_accuracy: 0.7500 - 24ms/epoch - 6ms/step\n",
      "Epoch 19/20\n",
      "4/4 - 0s - loss: 0.6096 - accuracy: 0.6574 - val_loss: 0.5421 - val_accuracy: 0.7500 - 23ms/epoch - 6ms/step\n",
      "Epoch 20/20\n",
      "4/4 - 0s - loss: 0.5901 - accuracy: 0.6574 - val_loss: 0.5173 - val_accuracy: 0.7500 - 23ms/epoch - 6ms/step\n"
     ]
    },
    {
     "data": {
      "text/plain": [
       "<keras.src.callbacks.History at 0x7a2c545418d0>"
      ]
     },
     "execution_count": 13,
     "metadata": {},
     "output_type": "execute_result"
    }
   ],
   "source": [
    "model.fit(X_train, y_train_encoded, validation_split=0.1, epochs=20, verbose=2)"
   ]
  },
  {
   "cell_type": "code",
   "execution_count": 14,
   "id": "2d08c655-1082-4810-8f27-dff090003fe1",
   "metadata": {},
   "outputs": [
    {
     "name": "stdout",
     "output_type": "stream",
     "text": [
      "Test Loss: 0.5718246102333069\n",
      "Test Accuracy: 0.6666666865348816\n"
     ]
    }
   ],
   "source": [
    "test_loss, test_accuracy = model.evaluate(X_test, y_test_encoded, verbose=0)\n",
    "print(\"Test Loss:\", test_loss)\n",
    "print(\"Test Accuracy:\", test_accuracy)"
   ]
  },
  {
   "cell_type": "code",
   "execution_count": null,
   "id": "57039ec5-2551-4d41-a2b3-26871da70f6d",
   "metadata": {},
   "outputs": [],
   "source": []
  }
 ],
 "metadata": {
  "kernelspec": {
   "display_name": "Python 3 (ipykernel)",
   "language": "python",
   "name": "python3"
  },
  "language_info": {
   "codemirror_mode": {
    "name": "ipython",
    "version": 3
   },
   "file_extension": ".py",
   "mimetype": "text/x-python",
   "name": "python",
   "nbconvert_exporter": "python",
   "pygments_lexer": "ipython3",
   "version": "3.11.1"
  }
 },
 "nbformat": 4,
 "nbformat_minor": 5
}
